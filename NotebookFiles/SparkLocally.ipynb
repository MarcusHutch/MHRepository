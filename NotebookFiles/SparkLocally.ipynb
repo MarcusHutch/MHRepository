{
 "cells": [
  {
   "cell_type": "code",
   "execution_count": 1,
   "metadata": {},
   "outputs": [],
   "source": [
    "import pyspark"
   ]
  },
  {
   "cell_type": "code",
   "execution_count": null,
   "metadata": {},
   "outputs": [],
   "source": [
    "import pandas as pd\n",
    "df = pd.read_csv(\"https://github.com/MarcusHutch/MHRepository_Public/raw/main/PatientSample.csv\")\n",
    "display(df)"
   ]
  },
  {
   "cell_type": "code",
   "execution_count": 3,
   "metadata": {},
   "outputs": [],
   "source": [
    "from pyspark.sql import SparkSession"
   ]
  },
  {
   "cell_type": "code",
   "execution_count": 4,
   "metadata": {},
   "outputs": [
    {
     "data": {
      "text/html": [
       "\n",
       "            <div>\n",
       "                <p><b>SparkSession - in-memory</b></p>\n",
       "                \n",
       "        <div>\n",
       "            <p><b>SparkContext</b></p>\n",
       "\n",
       "            <p><a href=\"http://W10-66NS7G3.standrew.co.uk:4040\">Spark UI</a></p>\n",
       "\n",
       "            <dl>\n",
       "              <dt>Version</dt>\n",
       "                <dd><code>v3.4.1</code></dd>\n",
       "              <dt>Master</dt>\n",
       "                <dd><code>local[*]</code></dd>\n",
       "              <dt>AppName</dt>\n",
       "                <dd><code>Practice</code></dd>\n",
       "            </dl>\n",
       "        </div>\n",
       "        \n",
       "            </div>\n",
       "        "
      ],
      "text/plain": [
       "<pyspark.sql.session.SparkSession at 0x191c85fa1d0>"
      ]
     },
     "metadata": {},
     "output_type": "display_data"
    }
   ],
   "source": [
    "# spark=SparkSession.builder.appName('Practice').getOrCreate()\n",
    "# display(spark)\n",
    "\n",
    "builder = pyspark.sql.SparkSession.builder.appName(\"Practice\") \\\n",
    "    .config(\"spark.sql.extensions\", \"io.delta.sql.DeltaSparkSessionExtension\") \\\n",
    "    .config(\"spark.sql.catalog.spark_catalog\", \"org.apache.spark.sql.delta.catalog.DeltaCatalog\")\n",
    "\n",
    "spark = configure_spark_with_delta_pip(builder).getOrCreate()"
   ]
  },
  {
   "cell_type": "code",
   "execution_count": null,
   "metadata": {},
   "outputs": [],
   "source": [
    "df_pyspark = spark.read.csv('C:/Users/mwhutchcra/Downloads/rio_metadata.csv')\n",
    "display(df_pyspark)\n",
    "df_pyspark.show()"
   ]
  },
  {
   "cell_type": "code",
   "execution_count": 6,
   "metadata": {},
   "outputs": [
    {
     "name": "stdout",
     "output_type": "stream",
     "text": [
      "+------------+----------------+----------+-----------+------+------------+--------------------+--------+\n",
      "|ObjectSchema|      ObjectName|ObjectType|  KeyColumn|Active|SourceSystem|            FileName|FileType|\n",
      "+------------+----------------+----------+-----------+------+------------+--------------------+--------+\n",
      "|         dbo| GenHospitalSite|BASE TABLE|       Code|     Y|         rio|GenHospitalSite_2...|     csv|\n",
      "|         dbo|       GenPerson|BASE TABLE|GenPersonID|     Y|         rio|GenPerson_2023-12...|     csv|\n",
      "|         dbo|        ImsEvent|BASE TABLE| SequenceID|     Y|         rio|ImsEvent_2023-12-...|     csv|\n",
      "|         dbo|ImsEventMovement|BASE TABLE| SequenceID|     Y|         rio|ImsEventMovement_...|     csv|\n",
      "|         dbo|         ImsWard|BASE TABLE| SequenceID|     Y|         rio|ImsWard_2023-12-1...|     csv|\n",
      "|         dbo|          Client|BASE TABLE| SequenceID|     Y|         rio|Client_2023-12-13...|     csv|\n",
      "+------------+----------------+----------+-----------+------+------------+--------------------+--------+\n",
      "\n"
     ]
    }
   ],
   "source": [
    "spark.read.option('header','true').csv('C:/Users/mwhutchcra/Downloads/rio_metadata.csv') \n",
    "spark.read.option('header','true').csv('C:/Users/mwhutchcra/Downloads/rio_metadata.csv').show()"
   ]
  },
  {
   "cell_type": "code",
   "execution_count": null,
   "metadata": {},
   "outputs": [],
   "source": [
    "df_pyspark.write.format(\"delta\").mode(\"overwrite\").save('data/delta/test1/')"
   ]
  }
 ],
 "metadata": {
  "kernelspec": {
   "display_name": ".venv",
   "language": "python",
   "name": "python3"
  },
  "language_info": {
   "codemirror_mode": {
    "name": "ipython",
    "version": 3
   },
   "file_extension": ".py",
   "mimetype": "text/x-python",
   "name": "python",
   "nbconvert_exporter": "python",
   "pygments_lexer": "ipython3",
   "version": "3.11.5"
  }
 },
 "nbformat": 4,
 "nbformat_minor": 2
}
